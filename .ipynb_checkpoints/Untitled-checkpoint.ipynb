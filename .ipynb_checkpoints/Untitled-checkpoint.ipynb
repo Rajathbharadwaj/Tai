{
 "cells": [
  {
   "cell_type": "code",
   "execution_count": 1,
   "id": "42d51dc7",
   "metadata": {},
   "outputs": [],
   "source": [
    "import jax\n",
    "import jax.numpy as jnp\n",
    "from flax import linen as nn\n",
    "from flax.training import train_state\n",
    "import numpy as np\n",
    "import optax\n",
    "import tensorflow_datasets as tfds"
   ]
  },
  {
   "cell_type": "code",
   "execution_count": 2,
   "id": "78f4a89b",
   "metadata": {},
   "outputs": [],
   "source": [
    "mnist_builder = tfds.builder(\"mnist\")\n",
    "mnist_info = mnist_builder.info"
   ]
  },
  {
   "cell_type": "code",
   "execution_count": 3,
   "id": "db08a648",
   "metadata": {},
   "outputs": [
    {
     "data": {
      "text/plain": [
       "tfds.core.DatasetInfo(\n",
       "    name='mnist',\n",
       "    full_name='mnist/3.0.1',\n",
       "    description=\"\"\"\n",
       "    The MNIST database of handwritten digits.\n",
       "    \"\"\",\n",
       "    homepage='http://yann.lecun.com/exdb/mnist/',\n",
       "    data_path='/Users/rajathbharadwaj/tensorflow_datasets/mnist/3.0.1',\n",
       "    file_format=tfrecord,\n",
       "    download_size=11.06 MiB,\n",
       "    dataset_size=21.00 MiB,\n",
       "    features=FeaturesDict({\n",
       "        'image': Image(shape=(28, 28, 1), dtype=tf.uint8),\n",
       "        'label': ClassLabel(shape=(), dtype=tf.int64, num_classes=10),\n",
       "    }),\n",
       "    supervised_keys=('image', 'label'),\n",
       "    disable_shuffling=False,\n",
       "    splits={\n",
       "        'test': <SplitInfo num_examples=10000, num_shards=1>,\n",
       "        'train': <SplitInfo num_examples=60000, num_shards=1>,\n",
       "    },\n",
       "    citation=\"\"\"@article{lecun2010mnist,\n",
       "      title={MNIST handwritten digit database},\n",
       "      author={LeCun, Yann and Cortes, Corinna and Burges, CJ},\n",
       "      journal={ATT Labs [Online]. Available: http://yann.lecun.com/exdb/mnist},\n",
       "      volume={2},\n",
       "      year={2010}\n",
       "    }\"\"\",\n",
       ")"
      ]
     },
     "execution_count": 3,
     "metadata": {},
     "output_type": "execute_result"
    }
   ],
   "source": [
    "mnist_info\n"
   ]
  },
  {
   "cell_type": "code",
   "execution_count": 4,
   "id": "c5d7701a",
   "metadata": {},
   "outputs": [],
   "source": [
    "mnist_builder.download_and_prepare()\n",
    "datasets = mnist_builder.as_dataset()"
   ]
  },
  {
   "cell_type": "code",
   "execution_count": 5,
   "id": "14cc5fef",
   "metadata": {},
   "outputs": [
    {
     "data": {
      "text/plain": [
       "{'test': <PrefetchDataset element_spec={'image': TensorSpec(shape=(28, 28, 1), dtype=tf.uint8, name=None), 'label': TensorSpec(shape=(), dtype=tf.int64, name=None)}>,\n",
       " 'train': <PrefetchDataset element_spec={'image': TensorSpec(shape=(28, 28, 1), dtype=tf.uint8, name=None), 'label': TensorSpec(shape=(), dtype=tf.int64, name=None)}>}"
      ]
     },
     "execution_count": 5,
     "metadata": {},
     "output_type": "execute_result"
    }
   ],
   "source": [
    "datasets"
   ]
  },
  {
   "cell_type": "code",
   "execution_count": 6,
   "id": "dc808793",
   "metadata": {},
   "outputs": [],
   "source": [
    "train, test = datasets['train'], datasets['test']"
   ]
  },
  {
   "cell_type": "code",
   "execution_count": 7,
   "id": "4dcafd01",
   "metadata": {},
   "outputs": [],
   "source": [
    "train_ds = train.repeat().shuffle(1024).batch(128)"
   ]
  },
  {
   "cell_type": "code",
   "execution_count": 8,
   "id": "0232523f",
   "metadata": {},
   "outputs": [
    {
     "data": {
      "text/plain": [
       "<PrefetchDataset element_spec={'image': TensorSpec(shape=(None, 28, 28, 1), dtype=tf.uint8, name=None), 'label': TensorSpec(shape=(None,), dtype=tf.int64, name=None)}>"
      ]
     },
     "execution_count": 8,
     "metadata": {},
     "output_type": "execute_result"
    }
   ],
   "source": [
    "train_ds.prefetch(2)"
   ]
  },
  {
   "cell_type": "code",
   "execution_count": 9,
   "id": "d8ba3f28",
   "metadata": {},
   "outputs": [],
   "source": [
    "import tensorflow as tf"
   ]
  },
  {
   "cell_type": "code",
   "execution_count": 10,
   "id": "2dedae4c",
   "metadata": {},
   "outputs": [
    {
     "name": "stderr",
     "output_type": "stream",
     "text": [
      "2022-10-14 12:47:07.502582: W tensorflow/core/kernels/data/cache_dataset_ops.cc:856] The calling iterator did not fully read the dataset being cached. In order to avoid unexpected truncation of the dataset, the partially cached contents of the dataset  will be discarded. This can happen if you have an input pipeline similar to `dataset.cache().take(k).repeat()`. You should use `dataset.take(k).cache().repeat()` instead.\n"
     ]
    }
   ],
   "source": [
    "features = tf.compat.v1.data.make_one_shot_iterator(train_ds).get_next()"
   ]
  },
  {
   "cell_type": "code",
   "execution_count": null,
   "id": "26ec0da1",
   "metadata": {},
   "outputs": [],
   "source": []
  },
  {
   "cell_type": "code",
   "execution_count": 11,
   "id": "ba7c5c58",
   "metadata": {},
   "outputs": [],
   "source": [
    "class CNN(nn.Module):\n",
    "    @nn.compact\n",
    "    def __call__(self, x):\n",
    "        x = nn.Conv(32, kernel_size=(3, 3), )(x)\n",
    "        x = nn.relu(x)\n",
    "        x = nn.max_pool(x, window_shape=(2, 2), strides=(2, 2))\n",
    "        x = nn.Conv(64, kernel_size=(3, 3))(x)\n",
    "        x = nn.relu(x)\n",
    "        x = nn.avg_pool(x, window_shape=(2, 2), strides=(2, 2))\n",
    "        x = nn.Conv(128, kernel_size=(3, 3), )(x)\n",
    "        x = nn.relu(x)\n",
    "        x = nn.max_pool(x, window_shape=(2, 2), strides=(2, 2))\n",
    "        x = x.reshape((x.shape[0], -1))\n",
    "        x = nn.Dense(512)(x)\n",
    "        x = nn.relu(x)\n",
    "        x = nn.Dense(10)(x)\n",
    "        return x        "
   ]
  },
  {
   "cell_type": "code",
   "execution_count": 12,
   "id": "64412505",
   "metadata": {},
   "outputs": [],
   "source": [
    "def cross_entropy_loss(logits, lables):\n",
    "    lables_onehot = jax.nn.one_hot(lables, num_classes=10)\n",
    "    return optax.softmax_cross_entropy(logits, lables_onehot).mean()"
   ]
  },
  {
   "cell_type": "code",
   "execution_count": 13,
   "id": "44b7bc78",
   "metadata": {},
   "outputs": [],
   "source": [
    "import wandb"
   ]
  },
  {
   "cell_type": "code",
   "execution_count": 14,
   "id": "e9572ec5",
   "metadata": {},
   "outputs": [
    {
     "name": "stderr",
     "output_type": "stream",
     "text": [
      "\u001b[34m\u001b[1mwandb\u001b[0m: Currently logged in as: \u001b[33mrajathdb\u001b[0m. Use \u001b[1m`wandb login --relogin`\u001b[0m to force relogin\n"
     ]
    },
    {
     "data": {
      "text/html": [
       "Tracking run with wandb version 0.13.4"
      ],
      "text/plain": [
       "<IPython.core.display.HTML object>"
      ]
     },
     "metadata": {},
     "output_type": "display_data"
    },
    {
     "data": {
      "text/html": [
       "Run data is saved locally in <code>/Users/rajathbharadwaj/D/TAI/Project_1_MNIST_cnn/wandb/run-20221014_124710-yk30dodq</code>"
      ],
      "text/plain": [
       "<IPython.core.display.HTML object>"
      ]
     },
     "metadata": {},
     "output_type": "display_data"
    },
    {
     "data": {
      "text/html": [
       "Syncing run <strong><a href=\"https://wandb.ai/rajathdb/uncategorized/runs/yk30dodq\" target=\"_blank\">fancy-paper-3</a></strong> to <a href=\"https://wandb.ai/rajathdb/uncategorized\" target=\"_blank\">Weights & Biases</a> (<a href=\"https://wandb.me/run\" target=\"_blank\">docs</a>)<br/>"
      ],
      "text/plain": [
       "<IPython.core.display.HTML object>"
      ]
     },
     "metadata": {},
     "output_type": "display_data"
    },
    {
     "data": {
      "text/html": [
       "<button onClick=\"this.nextSibling.style.display='block';this.style.display='none';\">Display W&B run</button><iframe src=\"https://wandb.ai/rajathdb/uncategorized/runs/yk30dodq?jupyter=true\" style=\"border:none;width:100%;height:420px;display:none;\"></iframe>"
      ],
      "text/plain": [
       "<wandb.sdk.wandb_run.Run at 0x7f803b51ecd0>"
      ]
     },
     "execution_count": 14,
     "metadata": {},
     "output_type": "execute_result"
    }
   ],
   "source": [
    "wandb.init('mnist_with_flax&jax', config={})"
   ]
  },
  {
   "cell_type": "code",
   "execution_count": 15,
   "id": "f4c52f61",
   "metadata": {},
   "outputs": [],
   "source": [
    "def compute_metrics(logits, lables):\n",
    "    loss = cross_entropy_loss(logits, lable)\n",
    "    accuracy = jnp.mean(jnp.argmax(logits, -1) == lables)\n",
    "    return loss, accuracy"
   ]
  },
  {
   "cell_type": "code",
   "execution_count": 16,
   "id": "01bdf1f1",
   "metadata": {},
   "outputs": [],
   "source": [
    "def datasets(name):\n",
    "    ds_builder = tfds.builder(name)\n",
    "    ds_builder.download_and_prepare()\n",
    "    train_ds = tfds.as_numpy(ds_builder.as_dataset(split='train', batch_size=-1))\n",
    "    test_ds = tfds.as_numpy(ds_builder.as_dataset(split='test', batch_size=-1))\n",
    "    train_ds['image'] = jnp.float32(train_ds['image'])/ 255.\n",
    "    test_ds['image'] = jnp.float32(test_ds['image']) / 255.\n",
    "    return train_ds, test_ds"
   ]
  },
  {
   "cell_type": "code",
   "execution_count": 17,
   "id": "a3b0470b",
   "metadata": {},
   "outputs": [],
   "source": [
    "@jax.jit\n",
    "def create_train_state(random_number_gen, lr, m):\n",
    "    cnn = CNN()\n",
    "    weight_params = cnn.init(random_number_gen, jnp.ones([1, 28, 28, 1]))\n",
    "    optim = optax.sgd(lr, m)\n",
    "    return train_state.TrainState.create(\n",
    "        apply_fn=cnn.apply, params=weight_params['params'], tx=optim\n",
    "    )"
   ]
  },
  {
   "cell_type": "code",
   "execution_count": 19,
   "id": "ac555a12",
   "metadata": {},
   "outputs": [],
   "source": [
    "@jax.jit\n",
    "def train_step(current_state, img_batch):\n",
    "    def loss_fn(params):\n",
    "        logits = CNN().apply({'params': params}, img_batch['image'])\n",
    "        loss = cross_entropy_loss(logits=logits, labels=img_batch['label'])\n",
    "        return loss, logits\n",
    "    grad_fn = jax.value_and_grad(loss_fn, has_aux=True)\n",
    "    (_, logits), grads = grad_fn(current_state.params)\n",
    "    current_state = current_state.apply_gradients(grads=grads)\n",
    "    loss, accuracy = compute_metrics(logits, lables=img_batch['lable'])\n",
    "    return current_state, {'loss': loss, 'acc': acc}"
   ]
  },
  {
   "cell_type": "code",
   "execution_count": 20,
   "id": "c5c92be0",
   "metadata": {},
   "outputs": [],
   "source": [
    "@jax.jit\n",
    "def eval_step(params, batch):\n",
    "    logits = CNN().apply({'params': params}, batch['image'])\n",
    "    loss, acc = compute_metrics(logits, batch['lable'])\n",
    "    return {'loss': loss, 'acc': acc}"
   ]
  },
  {
   "cell_type": "code",
   "execution_count": null,
   "id": "77d51863",
   "metadata": {},
   "outputs": [],
   "source": [
    "def train_epoch(state, train_ds, batch_size, epoch, rng):\n",
    "    train_ds_size = train_ds.shape[0]\n",
    "    sps = train_ds_size // batch_size\n",
    "    "
   ]
  }
 ],
 "metadata": {
  "kernelspec": {
   "display_name": "Python 3 (ipykernel)",
   "language": "python",
   "name": "python3"
  },
  "language_info": {
   "codemirror_mode": {
    "name": "ipython",
    "version": 3
   },
   "file_extension": ".py",
   "mimetype": "text/x-python",
   "name": "python",
   "nbconvert_exporter": "python",
   "pygments_lexer": "ipython3",
   "version": "3.9.13"
  }
 },
 "nbformat": 4,
 "nbformat_minor": 5
}
